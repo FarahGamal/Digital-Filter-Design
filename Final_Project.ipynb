{
  "cells": [
    {
      "cell_type": "markdown",
      "metadata": {
        "id": "view-in-github",
        "colab_type": "text"
      },
      "source": [
        "<a href=\"https://colab.research.google.com/github/FarahGamal/Digital-Filter-Design/blob/main/Final_Project.ipynb\" target=\"_parent\"><img src=\"https://colab.research.google.com/assets/colab-badge.svg\" alt=\"Open In Colab\"/></a>"
      ]
    },
    {
      "cell_type": "markdown",
      "metadata": {
        "id": "G_jPZwvhZQ8V"
      },
      "source": [
        "# Install Dependencies"
      ]
    },
    {
      "cell_type": "code",
      "execution_count": 1,
      "metadata": {
        "id": "MVS6OdA4ZQ8Y"
      },
      "outputs": [],
      "source": [
        "# installation\n",
        "# !pip install tensorflow opencv-python matplotlib"
      ]
    },
    {
      "cell_type": "markdown",
      "source": [
        "# Imports and Attributes Initialization"
      ],
      "metadata": {
        "id": "lFhiwmjBiRYi"
      }
    },
    {
      "cell_type": "code",
      "source": [
        "#imports\n",
        "import os                              \n",
        "import cv2\n",
        "import imghdr\n",
        "import joblib\n",
        "import numpy as np\n",
        "import pandas as pd\n",
        "import tensorflow as tf\n",
        "from sklearn import svm\n",
        "from sklearn.svm import SVC\n",
        "from keras.models import load_model\n",
        "from matplotlib import pyplot as plt\n",
        "from keras.applications import ResNet50\n",
        "from sklearn.preprocessing import normalize\n",
        "from tensorflow.keras.preprocessing import image\n",
        "from sklearn.multiclass import OneVsRestClassifier\n",
        "from sklearn.model_selection import train_test_split\n",
        "from keras.preprocessing.image import ImageDataGenerator\n",
        "from tensorflow.keras.applications.resnet50 import preprocess_input, ResNet50\n",
        "from sklearn.metrics import accuracy_score, f1_score, recall_score, precision_score, confusion_matrix, roc_curve, roc_auc_score, ConfusionMatrixDisplay, classification_report"
      ],
      "metadata": {
        "id": "nQ4NWWQ6irhY"
      },
      "execution_count": 2,
      "outputs": []
    },
    {
      "cell_type": "code",
      "source": [
        "# Attributes Initialization\n",
        "data_dir = '/content/drive/MyDrive/Dataset_image_project/data' \n",
        "SVM_dir = '/content/drive/MyDrive/Dataset_image_project/model/svm_model50.pkl'\n",
        "features_dir = '/content/drive/MyDrive/Dataset_image_project/model/features.npy'\n",
        "labels_dir = '/content/drive/MyDrive/Dataset_image_project/model/labels.npy'\n",
        "image_exts = ['jpeg','jpg', 'bmp', 'png']                               #putting all the wanted image extensions\n",
        "class_names = ['Drusen', 'Exudate', 'Normal']"
      ],
      "metadata": {
        "id": "47HNgJkYjYdB"
      },
      "execution_count": 3,
      "outputs": []
    },
    {
      "cell_type": "markdown",
      "source": [
        "# Setup "
      ],
      "metadata": {
        "id": "SXr1d6lxi7H6"
      }
    },
    {
      "cell_type": "code",
      "source": [
        "# Avoid OOM errors by setting GPU Memory Consumption Growth\n",
        "gpus = tf.config.experimental.list_physical_devices('GPU')\n",
        "for gpu in gpus:                                                  \n",
        "    tf.config.experimental.set_memory_growth(gpu, True)"
      ],
      "metadata": {
        "id": "UVYcim7PjRJp"
      },
      "execution_count": 4,
      "outputs": []
    },
    {
      "cell_type": "code",
      "source": [
        "tf.config.list_physical_devices('GPU')"
      ],
      "metadata": {
        "colab": {
          "base_uri": "https://localhost:8080/"
        },
        "id": "qrhnG0i0jSrR",
        "outputId": "446008dc-25bf-4c12-99ce-e2784ec37912"
      },
      "execution_count": 5,
      "outputs": [
        {
          "output_type": "execute_result",
          "data": {
            "text/plain": [
              "[]"
            ]
          },
          "metadata": {},
          "execution_count": 5
        }
      ]
    },
    {
      "cell_type": "markdown",
      "metadata": {
        "id": "wMXPmvFjZQ8b"
      },
      "source": [
        "# Remove dodgy images"
      ]
    },
    {
      "cell_type": "markdown",
      "source": [
        "We loop over the dataset to remove dodgy images.\n",
        "we load the 3 classes that we want Normal, Exudate and drusen, then check for any corrupted image to remove it."
      ],
      "metadata": {
        "id": "Ztp4Ni4e_3e5"
      }
    },
    {
      "cell_type": "code",
      "execution_count": 6,
      "metadata": {
        "id": "iKR_7dFuZQ8c"
      },
      "outputs": [],
      "source": [
        "# we loop over the dataset to remove dodgy images\n",
        "for image_class in os.listdir(data_dir): \n",
        "    for image in os.listdir(os.path.join(data_dir, image_class)):\n",
        "        image_path = os.path.join(data_dir, image_class, image)\n",
        "        try:\n",
        "          # we load the 3 classes that we want Normal, Exudate and drusen                                                                 \n",
        "          img = cv2.imread(image_path)                                     \n",
        "          tip = imghdr.what(image_path)\n",
        "          # if condition to remove any corrupted image\n",
        "          if tip not in image_exts: \n",
        "              print('Image not in ext list {}'.format(image_path))\n",
        "              os.remove(image_path)\n",
        "        except Exception as e: \n",
        "            print('Issue with image {}'.format(image_path))\n",
        "            # os.remove(image_path)"
      ]
    },
    {
      "cell_type": "markdown",
      "metadata": {
        "id": "2io3ek9UZQ8c"
      },
      "source": [
        "# Load and Scale Data"
      ]
    },
    {
      "cell_type": "markdown",
      "source": [
        "We first define an ImageDataGenerator object and set rescale to 1./255 to rescale the pixel values to the range [0, 1]. Then we use the flow_from_directory method of the ImageDataGenerator object to load a subset of the dataset. We set the batch_size, the target_size, and the interpolation method to be 32, 224x244 and 'bilinear'."
      ],
      "metadata": {
        "id": "S7J4L_Ep-2ah"
      }
    },
    {
      "cell_type": "code",
      "execution_count": 7,
      "metadata": {
        "id": "WY0bQkzZZQ8c",
        "colab": {
          "base_uri": "https://localhost:8080/"
        },
        "outputId": "0a1876ec-f1e7-4997-f513-febc9fda5301"
      },
      "outputs": [
        {
          "output_type": "stream",
          "name": "stdout",
          "text": [
            "Found 172 images belonging to 3 classes.\n"
          ]
        }
      ],
      "source": [
        "# we define an ImageDataGenerator object and \n",
        "# set rescale to 1./255 to rescale the pixel values to the range [0, 1].\n",
        "data_generator = ImageDataGenerator(rescale=1./255)\n",
        "\n",
        "# we use the flow_from_directory method of the \n",
        "# ImageDataGenerator object to load a subset of the dataset\n",
        "# we made resizing and image interpolation using bilinear\n",
        "train = data_generator.flow_from_directory(\n",
        "    directory=data_dir,\n",
        "    target_size=(224, 224),\n",
        "    batch_size=32,\n",
        "    class_mode=None,\n",
        "    shuffle=False,\n",
        "    interpolation='bilinear'\n",
        ")"
      ]
    },
    {
      "cell_type": "markdown",
      "metadata": {
        "id": "9dm1OIh0ZQ8e"
      },
      "source": [
        "# Feature Extraction and Split Data"
      ]
    },
    {
      "cell_type": "markdown",
      "source": [
        "we first load the pre-trained ResNet50 model to extract features from images and store them in arrays.\n",
        "then we save the features and labels in .npy file the load them to split the images into train and test."
      ],
      "metadata": {
        "id": "msDU8EnWBc8i"
      }
    },
    {
      "cell_type": "code",
      "source": [
        "# Load the pre-trained ResNet50 model\n",
        "ResNet50_model = ResNet50(weights='imagenet', include_top=False)\n",
        "\n",
        "# Extract features from the images using ResNet50 and store them in arrays\n",
        "train_features = ResNet50_model.predict(train, steps=len(train), verbose=1)"
      ],
      "metadata": {
        "colab": {
          "base_uri": "https://localhost:8080/"
        },
        "id": "ROyLbiHyKV-4",
        "outputId": "9dd53b6f-415c-4f42-8ae7-e2b7f4b2833a"
      },
      "execution_count": 8,
      "outputs": [
        {
          "output_type": "stream",
          "name": "stdout",
          "text": [
            "6/6 [==============================] - 55s 9s/step\n"
          ]
        }
      ]
    },
    {
      "cell_type": "code",
      "source": [
        "# Save the preprocessed features and labels from the images\n",
        "np.save(features_dir, train_features)\n",
        "np.save(labels_dir, train.classes)"
      ],
      "metadata": {
        "id": "9Q-rZLptICxB"
      },
      "execution_count": 9,
      "outputs": []
    },
    {
      "cell_type": "code",
      "source": [
        "# Load the preprocessed features and labels from the images\n",
        "features = np.load(features_dir)\n",
        "labels = np.load(labels_dir)"
      ],
      "metadata": {
        "id": "RpDI5kyCK2T2"
      },
      "execution_count": 10,
      "outputs": []
    },
    {
      "cell_type": "code",
      "source": [
        "# Split image into train and test\n",
        "feature_train, feature_test, label_train, label_test = train_test_split(features, labels, test_size=0.1, random_state=42)"
      ],
      "metadata": {
        "id": "AvVF-zqR1aAx"
      },
      "execution_count": 11,
      "outputs": []
    },
    {
      "cell_type": "markdown",
      "metadata": {
        "id": "ZsLSCChpZQ8g"
      },
      "source": [
        "# Build Deep Learning Model"
      ]
    },
    {
      "cell_type": "markdown",
      "source": [
        "After we extract the features from the images using ResNet50 and store them in arrays, we then flatten and use to train an SVM classifier."
      ],
      "metadata": {
        "id": "ilRPyNOLC95Z"
      }
    },
    {
      "cell_type": "code",
      "source": [
        "# Flatten the features\n",
        "feature_train = np.reshape(feature_train, (feature_train.shape[0], -1))\n",
        "label_test = np.reshape(label_test, (label_test.shape[0], -1))\n",
        "\n",
        "# Define the SVM model\n",
        "svm_model = SVC(kernel='linear', C=1, probability=True)\n",
        "\n",
        "# Train the SVM model on the features\n",
        "svm_model.fit(feature_train, label_train)"
      ],
      "metadata": {
        "id": "OvKFHtTWpqe4",
        "colab": {
          "base_uri": "https://localhost:8080/",
          "height": 74
        },
        "outputId": "57ebefdd-884d-4deb-b683-b7623538c363"
      },
      "execution_count": 12,
      "outputs": [
        {
          "output_type": "execute_result",
          "data": {
            "text/plain": [
              "SVC(C=1, kernel='linear', probability=True)"
            ],
            "text/html": [
              "<style>#sk-container-id-1 {color: black;background-color: white;}#sk-container-id-1 pre{padding: 0;}#sk-container-id-1 div.sk-toggleable {background-color: white;}#sk-container-id-1 label.sk-toggleable__label {cursor: pointer;display: block;width: 100%;margin-bottom: 0;padding: 0.3em;box-sizing: border-box;text-align: center;}#sk-container-id-1 label.sk-toggleable__label-arrow:before {content: \"▸\";float: left;margin-right: 0.25em;color: #696969;}#sk-container-id-1 label.sk-toggleable__label-arrow:hover:before {color: black;}#sk-container-id-1 div.sk-estimator:hover label.sk-toggleable__label-arrow:before {color: black;}#sk-container-id-1 div.sk-toggleable__content {max-height: 0;max-width: 0;overflow: hidden;text-align: left;background-color: #f0f8ff;}#sk-container-id-1 div.sk-toggleable__content pre {margin: 0.2em;color: black;border-radius: 0.25em;background-color: #f0f8ff;}#sk-container-id-1 input.sk-toggleable__control:checked~div.sk-toggleable__content {max-height: 200px;max-width: 100%;overflow: auto;}#sk-container-id-1 input.sk-toggleable__control:checked~label.sk-toggleable__label-arrow:before {content: \"▾\";}#sk-container-id-1 div.sk-estimator input.sk-toggleable__control:checked~label.sk-toggleable__label {background-color: #d4ebff;}#sk-container-id-1 div.sk-label input.sk-toggleable__control:checked~label.sk-toggleable__label {background-color: #d4ebff;}#sk-container-id-1 input.sk-hidden--visually {border: 0;clip: rect(1px 1px 1px 1px);clip: rect(1px, 1px, 1px, 1px);height: 1px;margin: -1px;overflow: hidden;padding: 0;position: absolute;width: 1px;}#sk-container-id-1 div.sk-estimator {font-family: monospace;background-color: #f0f8ff;border: 1px dotted black;border-radius: 0.25em;box-sizing: border-box;margin-bottom: 0.5em;}#sk-container-id-1 div.sk-estimator:hover {background-color: #d4ebff;}#sk-container-id-1 div.sk-parallel-item::after {content: \"\";width: 100%;border-bottom: 1px solid gray;flex-grow: 1;}#sk-container-id-1 div.sk-label:hover label.sk-toggleable__label {background-color: #d4ebff;}#sk-container-id-1 div.sk-serial::before {content: \"\";position: absolute;border-left: 1px solid gray;box-sizing: border-box;top: 0;bottom: 0;left: 50%;z-index: 0;}#sk-container-id-1 div.sk-serial {display: flex;flex-direction: column;align-items: center;background-color: white;padding-right: 0.2em;padding-left: 0.2em;position: relative;}#sk-container-id-1 div.sk-item {position: relative;z-index: 1;}#sk-container-id-1 div.sk-parallel {display: flex;align-items: stretch;justify-content: center;background-color: white;position: relative;}#sk-container-id-1 div.sk-item::before, #sk-container-id-1 div.sk-parallel-item::before {content: \"\";position: absolute;border-left: 1px solid gray;box-sizing: border-box;top: 0;bottom: 0;left: 50%;z-index: -1;}#sk-container-id-1 div.sk-parallel-item {display: flex;flex-direction: column;z-index: 1;position: relative;background-color: white;}#sk-container-id-1 div.sk-parallel-item:first-child::after {align-self: flex-end;width: 50%;}#sk-container-id-1 div.sk-parallel-item:last-child::after {align-self: flex-start;width: 50%;}#sk-container-id-1 div.sk-parallel-item:only-child::after {width: 0;}#sk-container-id-1 div.sk-dashed-wrapped {border: 1px dashed gray;margin: 0 0.4em 0.5em 0.4em;box-sizing: border-box;padding-bottom: 0.4em;background-color: white;}#sk-container-id-1 div.sk-label label {font-family: monospace;font-weight: bold;display: inline-block;line-height: 1.2em;}#sk-container-id-1 div.sk-label-container {text-align: center;}#sk-container-id-1 div.sk-container {/* jupyter's `normalize.less` sets `[hidden] { display: none; }` but bootstrap.min.css set `[hidden] { display: none !important; }` so we also need the `!important` here to be able to override the default hidden behavior on the sphinx rendered scikit-learn.org. See: https://github.com/scikit-learn/scikit-learn/issues/21755 */display: inline-block !important;position: relative;}#sk-container-id-1 div.sk-text-repr-fallback {display: none;}</style><div id=\"sk-container-id-1\" class=\"sk-top-container\"><div class=\"sk-text-repr-fallback\"><pre>SVC(C=1, kernel=&#x27;linear&#x27;, probability=True)</pre><b>In a Jupyter environment, please rerun this cell to show the HTML representation or trust the notebook. <br />On GitHub, the HTML representation is unable to render, please try loading this page with nbviewer.org.</b></div><div class=\"sk-container\" hidden><div class=\"sk-item\"><div class=\"sk-estimator sk-toggleable\"><input class=\"sk-toggleable__control sk-hidden--visually\" id=\"sk-estimator-id-1\" type=\"checkbox\" checked><label for=\"sk-estimator-id-1\" class=\"sk-toggleable__label sk-toggleable__label-arrow\">SVC</label><div class=\"sk-toggleable__content\"><pre>SVC(C=1, kernel=&#x27;linear&#x27;, probability=True)</pre></div></div></div></div></div>"
            ]
          },
          "metadata": {},
          "execution_count": 12
        }
      ]
    },
    {
      "cell_type": "code",
      "source": [
        "# Save SVM model\n",
        "svm_model = OneVsRestClassifier(SVC(kernel='linear', probability=True))  ##malosh lzma i think\n",
        "svm_model.fit(feature_train, label_train)                                ##w dah kaman :)\n",
        "joblib.dump(svm_model, SVM_dir)"
      ],
      "metadata": {
        "id": "2wvYqhDU0AKS",
        "colab": {
          "base_uri": "https://localhost:8080/"
        },
        "outputId": "cc6d34fe-bf0c-413a-8813-7322aadfa0b2"
      },
      "execution_count": 13,
      "outputs": [
        {
          "output_type": "execute_result",
          "data": {
            "text/plain": [
              "['/content/drive/MyDrive/Dataset_image_project/model/svm_model50.pkl']"
            ]
          },
          "metadata": {},
          "execution_count": 13
        }
      ]
    },
    {
      "cell_type": "code",
      "source": [
        "# Load SVM model\n",
        "resnet_model = ResNet50(weights='imagenet', include_top=False, input_shape=(224, 224, 3))\n",
        "svm_model = joblib.load(SVM_dir)"
      ],
      "metadata": {
        "id": "9cMrJw-U0Fl5"
      },
      "execution_count": 14,
      "outputs": []
    },
    {
      "cell_type": "markdown",
      "source": [
        "# Test Model"
      ],
      "metadata": {
        "id": "VGZzauwrhoEJ"
      }
    },
    {
      "cell_type": "markdown",
      "source": [
        "we test the model on the test features and show results of actual and predicted."
      ],
      "metadata": {
        "id": "Whk1h39pFcfZ"
      }
    },
    {
      "cell_type": "code",
      "source": [
        "# Evaluate the SVM model on the test features\n",
        "predicted_class = []\n",
        "feature_test = np.reshape(feature_test, (feature_test.shape[0], -1))\n",
        "for i in range(len(feature_test)):\n",
        "  svm_preds = svm_model.predict(feature_test)[i]\n",
        "  predicted_class.append(svm_preds)"
      ],
      "metadata": {
        "id": "cTdqhVd-iiGB"
      },
      "execution_count": 15,
      "outputs": []
    },
    {
      "cell_type": "code",
      "source": [
        "# Show actual and predicted\n",
        "test_result = pd.DataFrame({'Actual' : label_test.flatten(), 'Predicted' : np.array(predicted_class)})\n",
        "test_result['Actual'] = test_result['Actual'].replace(0, 'Drusen')\n",
        "test_result['Actual'] = test_result['Actual'].replace(1,'Exudate')\n",
        "test_result['Actual'] = test_result['Actual'].replace(2,'Normal')\n",
        "\n",
        "test_result['Predicted'] = test_result['Predicted'].replace(0, 'Drusen')\n",
        "test_result['Predicted'] = test_result['Predicted'].replace(1,'Exudate')\n",
        "test_result['Predicted'] = test_result['Predicted'].replace(2,'Normal')\n",
        "test_result"
      ],
      "metadata": {
        "colab": {
          "base_uri": "https://localhost:8080/",
          "height": 613
        },
        "id": "PSxLDuNcWFlW",
        "outputId": "8033c867-c655-44b3-b982-905b90bb9926"
      },
      "execution_count": 16,
      "outputs": [
        {
          "output_type": "execute_result",
          "data": {
            "text/plain": [
              "     Actual Predicted\n",
              "0   Exudate   Exudate\n",
              "1    Normal    Normal\n",
              "2    Normal    Normal\n",
              "3    Drusen    Drusen\n",
              "4    Normal    Normal\n",
              "5    Normal    Normal\n",
              "6   Exudate   Exudate\n",
              "7    Normal    Normal\n",
              "8   Exudate   Exudate\n",
              "9    Drusen    Drusen\n",
              "10   Normal    Normal\n",
              "11  Exudate   Exudate\n",
              "12   Drusen    Drusen\n",
              "13  Exudate   Exudate\n",
              "14   Normal    Normal\n",
              "15   Drusen    Drusen\n",
              "16   Normal    Normal\n",
              "17   Drusen    Drusen"
            ],
            "text/html": [
              "\n",
              "  <div id=\"df-3a0a01ac-be08-457f-b4b6-e083a0151c63\">\n",
              "    <div class=\"colab-df-container\">\n",
              "      <div>\n",
              "<style scoped>\n",
              "    .dataframe tbody tr th:only-of-type {\n",
              "        vertical-align: middle;\n",
              "    }\n",
              "\n",
              "    .dataframe tbody tr th {\n",
              "        vertical-align: top;\n",
              "    }\n",
              "\n",
              "    .dataframe thead th {\n",
              "        text-align: right;\n",
              "    }\n",
              "</style>\n",
              "<table border=\"1\" class=\"dataframe\">\n",
              "  <thead>\n",
              "    <tr style=\"text-align: right;\">\n",
              "      <th></th>\n",
              "      <th>Actual</th>\n",
              "      <th>Predicted</th>\n",
              "    </tr>\n",
              "  </thead>\n",
              "  <tbody>\n",
              "    <tr>\n",
              "      <th>0</th>\n",
              "      <td>Exudate</td>\n",
              "      <td>Exudate</td>\n",
              "    </tr>\n",
              "    <tr>\n",
              "      <th>1</th>\n",
              "      <td>Normal</td>\n",
              "      <td>Normal</td>\n",
              "    </tr>\n",
              "    <tr>\n",
              "      <th>2</th>\n",
              "      <td>Normal</td>\n",
              "      <td>Normal</td>\n",
              "    </tr>\n",
              "    <tr>\n",
              "      <th>3</th>\n",
              "      <td>Drusen</td>\n",
              "      <td>Drusen</td>\n",
              "    </tr>\n",
              "    <tr>\n",
              "      <th>4</th>\n",
              "      <td>Normal</td>\n",
              "      <td>Normal</td>\n",
              "    </tr>\n",
              "    <tr>\n",
              "      <th>5</th>\n",
              "      <td>Normal</td>\n",
              "      <td>Normal</td>\n",
              "    </tr>\n",
              "    <tr>\n",
              "      <th>6</th>\n",
              "      <td>Exudate</td>\n",
              "      <td>Exudate</td>\n",
              "    </tr>\n",
              "    <tr>\n",
              "      <th>7</th>\n",
              "      <td>Normal</td>\n",
              "      <td>Normal</td>\n",
              "    </tr>\n",
              "    <tr>\n",
              "      <th>8</th>\n",
              "      <td>Exudate</td>\n",
              "      <td>Exudate</td>\n",
              "    </tr>\n",
              "    <tr>\n",
              "      <th>9</th>\n",
              "      <td>Drusen</td>\n",
              "      <td>Drusen</td>\n",
              "    </tr>\n",
              "    <tr>\n",
              "      <th>10</th>\n",
              "      <td>Normal</td>\n",
              "      <td>Normal</td>\n",
              "    </tr>\n",
              "    <tr>\n",
              "      <th>11</th>\n",
              "      <td>Exudate</td>\n",
              "      <td>Exudate</td>\n",
              "    </tr>\n",
              "    <tr>\n",
              "      <th>12</th>\n",
              "      <td>Drusen</td>\n",
              "      <td>Drusen</td>\n",
              "    </tr>\n",
              "    <tr>\n",
              "      <th>13</th>\n",
              "      <td>Exudate</td>\n",
              "      <td>Exudate</td>\n",
              "    </tr>\n",
              "    <tr>\n",
              "      <th>14</th>\n",
              "      <td>Normal</td>\n",
              "      <td>Normal</td>\n",
              "    </tr>\n",
              "    <tr>\n",
              "      <th>15</th>\n",
              "      <td>Drusen</td>\n",
              "      <td>Drusen</td>\n",
              "    </tr>\n",
              "    <tr>\n",
              "      <th>16</th>\n",
              "      <td>Normal</td>\n",
              "      <td>Normal</td>\n",
              "    </tr>\n",
              "    <tr>\n",
              "      <th>17</th>\n",
              "      <td>Drusen</td>\n",
              "      <td>Drusen</td>\n",
              "    </tr>\n",
              "  </tbody>\n",
              "</table>\n",
              "</div>\n",
              "      <button class=\"colab-df-convert\" onclick=\"convertToInteractive('df-3a0a01ac-be08-457f-b4b6-e083a0151c63')\"\n",
              "              title=\"Convert this dataframe to an interactive table.\"\n",
              "              style=\"display:none;\">\n",
              "        \n",
              "  <svg xmlns=\"http://www.w3.org/2000/svg\" height=\"24px\"viewBox=\"0 0 24 24\"\n",
              "       width=\"24px\">\n",
              "    <path d=\"M0 0h24v24H0V0z\" fill=\"none\"/>\n",
              "    <path d=\"M18.56 5.44l.94 2.06.94-2.06 2.06-.94-2.06-.94-.94-2.06-.94 2.06-2.06.94zm-11 1L8.5 8.5l.94-2.06 2.06-.94-2.06-.94L8.5 2.5l-.94 2.06-2.06.94zm10 10l.94 2.06.94-2.06 2.06-.94-2.06-.94-.94-2.06-.94 2.06-2.06.94z\"/><path d=\"M17.41 7.96l-1.37-1.37c-.4-.4-.92-.59-1.43-.59-.52 0-1.04.2-1.43.59L10.3 9.45l-7.72 7.72c-.78.78-.78 2.05 0 2.83L4 21.41c.39.39.9.59 1.41.59.51 0 1.02-.2 1.41-.59l7.78-7.78 2.81-2.81c.8-.78.8-2.07 0-2.86zM5.41 20L4 18.59l7.72-7.72 1.47 1.35L5.41 20z\"/>\n",
              "  </svg>\n",
              "      </button>\n",
              "      \n",
              "  <style>\n",
              "    .colab-df-container {\n",
              "      display:flex;\n",
              "      flex-wrap:wrap;\n",
              "      gap: 12px;\n",
              "    }\n",
              "\n",
              "    .colab-df-convert {\n",
              "      background-color: #E8F0FE;\n",
              "      border: none;\n",
              "      border-radius: 50%;\n",
              "      cursor: pointer;\n",
              "      display: none;\n",
              "      fill: #1967D2;\n",
              "      height: 32px;\n",
              "      padding: 0 0 0 0;\n",
              "      width: 32px;\n",
              "    }\n",
              "\n",
              "    .colab-df-convert:hover {\n",
              "      background-color: #E2EBFA;\n",
              "      box-shadow: 0px 1px 2px rgba(60, 64, 67, 0.3), 0px 1px 3px 1px rgba(60, 64, 67, 0.15);\n",
              "      fill: #174EA6;\n",
              "    }\n",
              "\n",
              "    [theme=dark] .colab-df-convert {\n",
              "      background-color: #3B4455;\n",
              "      fill: #D2E3FC;\n",
              "    }\n",
              "\n",
              "    [theme=dark] .colab-df-convert:hover {\n",
              "      background-color: #434B5C;\n",
              "      box-shadow: 0px 1px 3px 1px rgba(0, 0, 0, 0.15);\n",
              "      filter: drop-shadow(0px 1px 2px rgba(0, 0, 0, 0.3));\n",
              "      fill: #FFFFFF;\n",
              "    }\n",
              "  </style>\n",
              "\n",
              "      <script>\n",
              "        const buttonEl =\n",
              "          document.querySelector('#df-3a0a01ac-be08-457f-b4b6-e083a0151c63 button.colab-df-convert');\n",
              "        buttonEl.style.display =\n",
              "          google.colab.kernel.accessAllowed ? 'block' : 'none';\n",
              "\n",
              "        async function convertToInteractive(key) {\n",
              "          const element = document.querySelector('#df-3a0a01ac-be08-457f-b4b6-e083a0151c63');\n",
              "          const dataTable =\n",
              "            await google.colab.kernel.invokeFunction('convertToInteractive',\n",
              "                                                     [key], {});\n",
              "          if (!dataTable) return;\n",
              "\n",
              "          const docLinkHtml = 'Like what you see? Visit the ' +\n",
              "            '<a target=\"_blank\" href=https://colab.research.google.com/notebooks/data_table.ipynb>data table notebook</a>'\n",
              "            + ' to learn more about interactive tables.';\n",
              "          element.innerHTML = '';\n",
              "          dataTable['output_type'] = 'display_data';\n",
              "          await google.colab.output.renderOutput(dataTable, element);\n",
              "          const docLink = document.createElement('div');\n",
              "          docLink.innerHTML = docLinkHtml;\n",
              "          element.appendChild(docLink);\n",
              "        }\n",
              "      </script>\n",
              "    </div>\n",
              "  </div>\n",
              "  "
            ]
          },
          "metadata": {},
          "execution_count": 16
        }
      ]
    },
    {
      "cell_type": "markdown",
      "source": [
        "# Evaluate Model"
      ],
      "metadata": {
        "id": "dTP1R3KZhxmh"
      }
    },
    {
      "cell_type": "markdown",
      "source": [
        "Here we evaluate the model by calculating accuracy, precision, sensitivity, f1 score, specificity, and AUC."
      ],
      "metadata": {
        "id": "MM3MVNWTFyD6"
      }
    },
    {
      "cell_type": "code",
      "source": [
        "# calulate specificity\n",
        "def specificity(y_true, y_pred, class_index):\n",
        "    cm = confusion_matrix(y_true, y_pred)\n",
        "    tn = sum(cm[i, j] for i in range(cm.shape[0]) for j in range(cm.shape[1]) if i != class_index and j != class_index)\n",
        "    fp = sum(cm[i, j] for i in range(cm.shape[0]) for j in range(cm.shape[1]) if i != class_index and j == class_index)\n",
        "    return tn / (tn + fp)"
      ],
      "metadata": {
        "id": "PyXbtmNi0U84"
      },
      "execution_count": 17,
      "outputs": []
    },
    {
      "cell_type": "code",
      "source": [
        "# calculate accuracy \n",
        "def accuracy_per_class(y_true, y_pred, class_index):\n",
        "    cm = confusion_matrix(y_true, y_pred)\n",
        "    tn = sum(cm[i, j] for i in range(cm.shape[0]) for j in range(cm.shape[1]) if i != class_index and j != class_index)\n",
        "    fp = sum(cm[i, j] for i in range(cm.shape[0]) for j in range(cm.shape[1]) if i != class_index and j == class_index)\n",
        "    tp = cm[class_index, class_index]\n",
        "    fn = sum(cm[i, class_index] for i in range(cm.shape[0]) if i != class_index)\n",
        "    return (tp + tn) / (tp + tn + fp + fn)"
      ],
      "metadata": {
        "id": "iGGWCWS-z_ET"
      },
      "execution_count": 18,
      "outputs": []
    },
    {
      "cell_type": "code",
      "source": [
        "confusion = confusion_matrix(label_test, predicted_class)\n",
        "print('\\nClassification Report\\n')\n",
        "print(classification_report(label_test, predicted_class, target_names=['Drusen', 'Exudate', 'Normal']))"
      ],
      "metadata": {
        "id": "ATx9WmPJtbiy"
      },
      "execution_count": null,
      "outputs": []
    },
    {
      "cell_type": "code",
      "source": [
        "disp = ConfusionMatrixDisplay(confusion_matrix = confusion, display_labels=class_names)\n",
        "disp.plot(cmap=plt.cm.Blues)\n",
        "plt.show()"
      ],
      "metadata": {
        "id": "SQ7DOej9w9SN"
      },
      "execution_count": null,
      "outputs": []
    },
    {
      "cell_type": "code",
      "source": [
        "# Accuracy\n",
        "score = accuracy_per_class(label_test, predicted_class, 0)\n",
        "print(\"Accuracy for Drusen: {:.2f}\".format(score))\n",
        "score = accuracy_per_class(label_test, predicted_class, 1)\n",
        "print(\"Accuracy for class Exudate: {:.2f}\".format(score))\n",
        "score = accuracy_per_class(label_test, predicted_class, 2)\n",
        "print(\"Accuracy for class Normal: {:.2f}\".format(score))\n",
        "\n",
        "# Specificity\n",
        "score = specificity(label_test, predicted_class, 0)\n",
        "print(\"Specificity for Drusen: {:.2f}\".format(score))\n",
        "score = specificity(label_test, predicted_class, 1)\n",
        "print(\"Specificity for class Exudate: {:.2f}\".format(score))\n",
        "score = specificity(label_test, predicted_class, 2)\n",
        "print(\"Specificity for class Normal: {:.2f}\".format(score))\n",
        "\n",
        "# AUC\n",
        "test = np.reshape(label_test, (-1, 1))\n",
        "predicted = np.reshape(predicted_class, (-1, 1))\n",
        "predicted = normalize(predicted, axis=1, norm='l1')\n",
        "test = normalize(test, axis=1, norm='l1')\n",
        "auc = roc_auc_score(test, predicted, multi_class='ovo')\n",
        "print(\"AUC: {:.2f}\".format(auc))"
      ],
      "metadata": {
        "id": "OQoBHA2YiivI",
        "colab": {
          "base_uri": "https://localhost:8080/"
        },
        "outputId": "a0ee384d-6db9-4084-dfe5-2df812ae6f6d"
      },
      "execution_count": 21,
      "outputs": [
        {
          "output_type": "stream",
          "name": "stdout",
          "text": [
            "Accuracy for Drusen: 1.00\n",
            "Accuracy for class Exudate: 1.00\n",
            "Accuracy for class Normal: 1.00\n",
            "Specificity for Drusen: 1.00\n",
            "Specificity for class Exudate: 1.00\n",
            "Specificity for class Normal: 1.00\n",
            "AUC: 1.00\n"
          ]
        }
      ]
    },
    {
      "cell_type": "markdown",
      "source": [
        "# Classification"
      ],
      "metadata": {
        "id": "ArJzo6_Gb2K3"
      }
    },
    {
      "cell_type": "code",
      "source": [
        "# Classify image\n",
        "from tensorflow.keras.preprocessing import image\n",
        "\n",
        "# Load and preprocess the image\n",
        "img_path = '/content/drive/MyDrive/Dataset_image_project/data/Exudate/P003010_Img006477_Ex003485_Dx05_R3_GM_QA964_Fa_OS.jpg'\n",
        "img = image.load_img(img_path, target_size=(224, 224))\n",
        "x = image.img_to_array(img)\n",
        "x = np.expand_dims(x, axis=0)\n",
        "x = preprocess_input(x)\n",
        "\n",
        "# Extract features\n",
        "resnet_features = resnet_model.predict(x)\n",
        "# Flatten the features\n",
        "resnet_features_flat = np.reshape(resnet_features, (resnet_features.shape[0], -1))\n",
        "# Predict the classes using the SVM model\n",
        "svm_pred = svm_model.predict(resnet_features_flat)\n",
        "\n",
        "class_names = ['Drusen', 'Exudate', 'Normal']\n",
        "print('Predicted class:', class_names[svm_pred[0]])"
      ],
      "metadata": {
        "colab": {
          "base_uri": "https://localhost:8080/"
        },
        "id": "HcaqZ4byb88I",
        "outputId": "431f0209-3291-4c78-c186-a266355afd41"
      },
      "execution_count": 22,
      "outputs": [
        {
          "output_type": "stream",
          "name": "stdout",
          "text": [
            "1/1 [==============================] - 2s 2s/step\n",
            "Predicted class: Normal\n"
          ]
        }
      ]
    },
    {
      "cell_type": "code",
      "source": [
        "svm_pred"
      ],
      "metadata": {
        "colab": {
          "base_uri": "https://localhost:8080/"
        },
        "id": "s8uzHuKLDzoe",
        "outputId": "3e3c5585-d0a1-4ff3-b64a-c8982e3c1d67"
      },
      "execution_count": 23,
      "outputs": [
        {
          "output_type": "execute_result",
          "data": {
            "text/plain": [
              "array([2], dtype=int32)"
            ]
          },
          "metadata": {},
          "execution_count": 23
        }
      ]
    }
  ],
  "metadata": {
    "colab": {
      "provenance": [],
      "include_colab_link": true
    },
    "kernelspec": {
      "display_name": "Python 3 (ipykernel)",
      "language": "python",
      "name": "python3"
    },
    "language_info": {
      "codemirror_mode": {
        "name": "ipython",
        "version": 3
      },
      "file_extension": ".py",
      "mimetype": "text/x-python",
      "name": "python",
      "nbconvert_exporter": "python",
      "pygments_lexer": "ipython3",
      "version": "3.10.6"
    }
  },
  "nbformat": 4,
  "nbformat_minor": 0
}